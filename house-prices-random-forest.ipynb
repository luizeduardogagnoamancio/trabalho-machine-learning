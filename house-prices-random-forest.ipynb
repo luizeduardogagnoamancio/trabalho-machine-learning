{
 "cells": [
  {
   "cell_type": "code",
   "execution_count": null,
   "metadata": {},
   "outputs": [],
   "source": [
    "#Todos os imports necessários\n",
    "import pandas as pd\n",
    "import numpy as np\n",
    "from sklearn.model_selection import train_test_split, cross_val_score\n",
    "from sklearn.preprocessing import StandardScaler\n",
    "from sklearn.metrics import mean_squared_error\n",
    "from scipy import stats\n",
    "from sklearn.ensemble import RandomForestRegressor\n"
   ]
  },
  {
   "cell_type": "code",
   "execution_count": null,
   "metadata": {},
   "outputs": [],
   "source": [
    "# Importando o dataset de treino\n",
    "base = pd.read_csv('train.csv')"
   ]
  },
  {
   "cell_type": "code",
   "execution_count": null,
   "metadata": {},
   "outputs": [],
   "source": [
    "# Eliminando colunas com mais de 10% de valores vazios\n",
    "eliminar = base.columns[(base.isnull().sum() / base.shape[0]) > 0.1]\n",
    "base = base.drop(eliminar, axis=1)\n",
    "\n",
    "# Selecionando apenas as colunas numéricas\n",
    "colunas = base.columns[base.dtypes != 'object']\n",
    "base2 = base.loc[:, colunas]\n",
    "base2"
   ]
  },
  {
   "cell_type": "code",
   "execution_count": null,
   "metadata": {},
   "outputs": [],
   "source": [
    "# Substituindo os valores vazios por -1\n",
    "base2 = base2.fillna(-1)\n",
    "base2"
   ]
  },
  {
   "cell_type": "code",
   "execution_count": null,
   "metadata": {},
   "outputs": [],
   "source": [
    "# Removendo outliers usando Z-score\n",
    "z_scores = np.abs(stats.zscore(base2))\n",
    "threshold = 3\n",
    "base2 = base2[(z_scores < threshold).all(axis=1)]"
   ]
  },
  {
   "cell_type": "code",
   "execution_count": null,
   "metadata": {},
   "outputs": [],
   "source": [
    "# Criando novas features\n",
    "base2['TotalSF'] = base2['TotalBsmtSF'] + base2['1stFlrSF'] + base2['2ndFlrSF']"
   ]
  },
  {
   "cell_type": "code",
   "execution_count": null,
   "metadata": {},
   "outputs": [],
   "source": [
    "# Selecionando X e y\n",
    "X = base2.drop(['SalePrice'], axis=1)\n",
    "y = base2.SalePrice\n",
    "\n",
    "# Dividindo os dados em treino e teste\n",
    "X_train, X_test, y_train, y_test = train_test_split(X, y, test_size=0.33, random_state=42)"
   ]
  },
  {
   "cell_type": "code",
   "execution_count": null,
   "metadata": {},
   "outputs": [],
   "source": [
    "# Padronizando os dados\n",
    "scaler = StandardScaler()\n",
    "X_train = scaler.fit_transform(X_train)\n",
    "X_test = scaler.transform(X_test)"
   ]
  },
  {
   "cell_type": "code",
   "execution_count": null,
   "metadata": {},
   "outputs": [],
   "source": [
    "# Usando um modelo de Random Forest\n",
    "model = RandomForestRegressor(n_estimators=100, random_state=42)\n",
    "model.fit(X_train, y_train)\n",
    "y_pred = model.predict(X_test)\n",
    "\n",
    "# Avaliando o erro da regressão\n",
    "print(f'Mean Squared Error: {mean_squared_error(y_test, y_pred)}')"
   ]
  },
  {
   "cell_type": "code",
   "execution_count": null,
   "metadata": {},
   "outputs": [],
   "source": [
    "# Validação cruzada\n",
    "cv_scores = cross_val_score(model, X, y, cv=5, scoring='neg_mean_squared_error')\n",
    "print(f'Cross-Validated MSE: {-cv_scores.mean()}')"
   ]
  },
  {
   "cell_type": "code",
   "execution_count": null,
   "metadata": {},
   "outputs": [],
   "source": [
    "# Importando a base de teste\n",
    "teste = pd.read_csv('test.csv')\n",
    "\n",
    "# Eliminando as mesmas colunas da base de treino\n",
    "teste = teste.drop(eliminar, axis=1)\n",
    "\n",
    "# Selecionando apenas as colunas numéricas\n",
    "colunas2 = teste.columns[teste.dtypes != 'object']\n",
    "teste = teste.loc[:, colunas2]\n",
    "\n",
    "# Substituindo os valores vazios por -1\n",
    "teste = teste.fillna(-1)\n",
    "\n",
    "# Criando novas features para o teste\n",
    "teste['TotalSF'] = teste['TotalBsmtSF'] + teste['1stFlrSF'] + teste['2ndFlrSF']\n",
    "\n",
    "# Padronizando a base de teste\n",
    "teste_scaled = scaler.transform(teste)\n",
    "\n",
    "# Fazendo a previsão para a base de teste\n",
    "y_pred_test = model.predict(teste_scaled)\n",
    "\n",
    "# Adicionando a coluna de previsão na base de teste\n",
    "teste['SalePrice'] = y_pred_test\n",
    "\n",
    "# Extraindo apenas as colunas Id e SalePrice\n",
    "resultado = teste[['Id', 'SalePrice']]\n",
    "print(resultado.head(3))\n",
    "# Podemos então exportar essa base\n",
    "resultado.to_csv('resultado.csv', index=False)"
   ]
  }
 ],
 "metadata": {
  "kernelspec": {
   "display_name": "Python 3",
   "language": "python",
   "name": "python3"
  },
  "language_info": {
   "codemirror_mode": {
    "name": "ipython",
    "version": 3
   },
   "file_extension": ".py",
   "mimetype": "text/x-python",
   "name": "python",
   "nbconvert_exporter": "python",
   "pygments_lexer": "ipython3",
   "version": "3.12.4"
  }
 },
 "nbformat": 4,
 "nbformat_minor": 2
}
